{
 "cells": [
  {
   "cell_type": "markdown",
   "metadata": {},
   "source": [
    "# Managing Data Twitter Hadoop Application\n",
    "### File Date: 2019-08-18"
   ]
  },
  {
   "cell_type": "markdown",
   "metadata": {},
   "source": [
    "Import libraries"
   ]
  },
  {
   "cell_type": "code",
   "execution_count": 3,
   "metadata": {},
   "outputs": [],
   "source": [
    "import tweepy\n",
    "import numpy as np\n",
    "import pandas as pd\n",
    "import datetime\n",
    "import operator\n",
    "from datetime import date\n",
    "from textblob import TextBlob\n",
    "from datetime import datetime, timedelta"
   ]
  },
  {
   "cell_type": "markdown",
   "metadata": {},
   "source": [
    "Define keys (keys have been ommitted for privacy reasons)"
   ]
  },
  {
   "cell_type": "code",
   "execution_count": 4,
   "metadata": {},
   "outputs": [],
   "source": [
    "consumer_key= 'ommitted for security'\n",
    "consumer_secret= 'ommitted for security'\n",
    "access_token='ommitted for security'\n",
    "access_token_secret='ommitted for security'"
   ]
  },
  {
   "cell_type": "markdown",
   "metadata": {},
   "source": [
    "Get authorization"
   ]
  },
  {
   "cell_type": "code",
   "execution_count": 5,
   "metadata": {},
   "outputs": [],
   "source": [
    "auth = tweepy.OAuthHandler(consumer_key, consumer_secret)\n",
    "auth.set_access_token(access_token, access_token_secret)\n",
    "api = tweepy.API(auth)"
   ]
  },
  {
   "cell_type": "markdown",
   "metadata": {},
   "source": [
    "Define variables"
   ]
  },
  {
   "cell_type": "code",
   "execution_count": 7,
   "metadata": {},
   "outputs": [],
   "source": [
    "max_tweets = 1000\n",
    "today = date.today().strftime(\"%Y-%m-%d\")\n",
    "yesterday = date.today() - timedelta(1)\n",
    "start_date = yesterday.strftime(\"%Y-%m-%d\")"
   ]
  },
  {
   "cell_type": "markdown",
   "metadata": {},
   "source": [
    "Retrieve tweets"
   ]
  },
  {
   "cell_type": "code",
   "execution_count": 8,
   "metadata": {},
   "outputs": [],
   "source": [
    "celeb_tweets = [status for status in tweepy.Cursor(api.search, q = ['@katyperry OR @justinbieber OR @BarackObama OR @rihanna OR @taylorswift13 OR @ladygaga OR @TheEllenShow OR @cristiano OR @timberlake OR @ArianaGrande'], since = start_date, until = today, lang=\"en\").items(max_tweets)]"
   ]
  },
  {
   "cell_type": "markdown",
   "metadata": {},
   "source": [
    "Retrieve only user ant text"
   ]
  },
  {
   "cell_type": "code",
   "execution_count": 9,
   "metadata": {},
   "outputs": [],
   "source": [
    "user_tweet = [['From :', tweet.user.screen_name, ', Text :', tweet.text] for tweet in celeb_tweets]"
   ]
  },
  {
   "cell_type": "markdown",
   "metadata": {},
   "source": [
    "Convert to data frame"
   ]
  },
  {
   "cell_type": "code",
   "execution_count": 20,
   "metadata": {},
   "outputs": [
    {
     "data": {
      "text/html": [
       "<div>\n",
       "<style scoped>\n",
       "    .dataframe tbody tr th:only-of-type {\n",
       "        vertical-align: middle;\n",
       "    }\n",
       "\n",
       "    .dataframe tbody tr th {\n",
       "        vertical-align: top;\n",
       "    }\n",
       "\n",
       "    .dataframe thead th {\n",
       "        text-align: right;\n",
       "    }\n",
       "</style>\n",
       "<table border=\"1\" class=\"dataframe\">\n",
       "  <thead>\n",
       "    <tr style=\"text-align: right;\">\n",
       "      <th></th>\n",
       "      <th>user</th>\n",
       "      <th>name</th>\n",
       "      <th>tweet</th>\n",
       "      <th>text</th>\n",
       "    </tr>\n",
       "  </thead>\n",
       "  <tbody>\n",
       "    <tr>\n",
       "      <td>0</td>\n",
       "      <td>From :</td>\n",
       "      <td>unholykidrauhl</td>\n",
       "      <td>, Text :</td>\n",
       "      <td>RT @lordsdrew: his voice gives me goosebumps @...</td>\n",
       "    </tr>\n",
       "    <tr>\n",
       "      <td>1</td>\n",
       "      <td>From :</td>\n",
       "      <td>alwsjustincj</td>\n",
       "      <td>, Text :</td>\n",
       "      <td>RT @billboardcharts: .@justinbieber on this we...</td>\n",
       "    </tr>\n",
       "    <tr>\n",
       "      <td>2</td>\n",
       "      <td>From :</td>\n",
       "      <td>RitaTaeTae</td>\n",
       "      <td>, Text :</td>\n",
       "      <td>RT @billboardcharts: .@BTS_twt is officially N...</td>\n",
       "    </tr>\n",
       "    <tr>\n",
       "      <td>3</td>\n",
       "      <td>From :</td>\n",
       "      <td>commonguy123</td>\n",
       "      <td>, Text :</td>\n",
       "      <td>RT @Peoples_Pundit: Iowa has not \"traditionall...</td>\n",
       "    </tr>\n",
       "    <tr>\n",
       "      <td>4</td>\n",
       "      <td>From :</td>\n",
       "      <td>getmeddl</td>\n",
       "      <td>, Text :</td>\n",
       "      <td>nove @justinbieber @DanAndShay\\n  #10000Hours ...</td>\n",
       "    </tr>\n",
       "  </tbody>\n",
       "</table>\n",
       "</div>"
      ],
      "text/plain": [
       "     user            name     tweet  \\\n",
       "0  From :  unholykidrauhl  , Text :   \n",
       "1  From :    alwsjustincj  , Text :   \n",
       "2  From :      RitaTaeTae  , Text :   \n",
       "3  From :    commonguy123  , Text :   \n",
       "4  From :        getmeddl  , Text :   \n",
       "\n",
       "                                                text  \n",
       "0  RT @lordsdrew: his voice gives me goosebumps @...  \n",
       "1  RT @billboardcharts: .@justinbieber on this we...  \n",
       "2  RT @billboardcharts: .@BTS_twt is officially N...  \n",
       "3  RT @Peoples_Pundit: Iowa has not \"traditionall...  \n",
       "4  nove @justinbieber @DanAndShay\\n  #10000Hours ...  "
      ]
     },
     "execution_count": 20,
     "metadata": {},
     "output_type": "execute_result"
    }
   ],
   "source": [
    "# Convert tweets to df\n",
    "tweets_df = pd.DataFrame(data = user_tweet, columns = ['user', 'name', 'tweet', 'text'])\n",
    "# Take a look at the data\n",
    "tweets_df.head()"
   ]
  },
  {
   "cell_type": "markdown",
   "metadata": {},
   "source": [
    "Get the mention counts for each celebrity"
   ]
  },
  {
   "cell_type": "code",
   "execution_count": 13,
   "metadata": {},
   "outputs": [],
   "source": [
    "mention_counts = [tweets_df.text.str.contains('@katyperry').sum(),\n",
    "tweets_df.text.str.contains('@justinbieber').sum(),\n",
    "tweets_df.text.str.contains('@BarackObama').sum(),\n",
    "tweets_df.text.str.contains('@rihanna').sum(),\n",
    "tweets_df.text.str.contains('@taylorswift13').sum(),\n",
    "tweets_df.text.str.contains('@ladygaga').sum(),\n",
    "tweets_df.text.str.contains('@TheEllenShow').sum(),\n",
    "tweets_df.text.str.contains('@cristiano').sum(),\n",
    "tweets_df.text.str.contains('@timberlake').sum(),\n",
    "tweets_df.text.str.contains('@ArianaGrande').sum()]"
   ]
  },
  {
   "cell_type": "markdown",
   "metadata": {},
   "source": [
    "Create mention count data frame"
   ]
  },
  {
   "cell_type": "code",
   "execution_count": 16,
   "metadata": {},
   "outputs": [
    {
     "data": {
      "text/html": [
       "<div>\n",
       "<style scoped>\n",
       "    .dataframe tbody tr th:only-of-type {\n",
       "        vertical-align: middle;\n",
       "    }\n",
       "\n",
       "    .dataframe tbody tr th {\n",
       "        vertical-align: top;\n",
       "    }\n",
       "\n",
       "    .dataframe thead th {\n",
       "        text-align: right;\n",
       "    }\n",
       "</style>\n",
       "<table border=\"1\" class=\"dataframe\">\n",
       "  <thead>\n",
       "    <tr style=\"text-align: right;\">\n",
       "      <th></th>\n",
       "      <th>celebrity</th>\n",
       "      <th>number_of_tweets</th>\n",
       "    </tr>\n",
       "  </thead>\n",
       "  <tbody>\n",
       "    <tr>\n",
       "      <td>0</td>\n",
       "      <td>Katy Perry</td>\n",
       "      <td>1</td>\n",
       "    </tr>\n",
       "    <tr>\n",
       "      <td>1</td>\n",
       "      <td>Justin Bieber</td>\n",
       "      <td>375</td>\n",
       "    </tr>\n",
       "    <tr>\n",
       "      <td>2</td>\n",
       "      <td>Barack Obama</td>\n",
       "      <td>252</td>\n",
       "    </tr>\n",
       "    <tr>\n",
       "      <td>3</td>\n",
       "      <td>Rihanna</td>\n",
       "      <td>23</td>\n",
       "    </tr>\n",
       "    <tr>\n",
       "      <td>4</td>\n",
       "      <td>Taylor Swift</td>\n",
       "      <td>76</td>\n",
       "    </tr>\n",
       "  </tbody>\n",
       "</table>\n",
       "</div>"
      ],
      "text/plain": [
       "       celebrity  number_of_tweets\n",
       "0     Katy Perry                 1\n",
       "1  Justin Bieber               375\n",
       "2   Barack Obama               252\n",
       "3        Rihanna                23\n",
       "4   Taylor Swift                76"
      ]
     },
     "execution_count": 16,
     "metadata": {},
     "output_type": "execute_result"
    }
   ],
   "source": [
    "# Define column values\n",
    "celeb_counts_df = {'celebrity': ['Katy Perry', 'Justin Bieber', 'Barack Obama', 'Rihanna', 'Taylor Swift', 'Lady Gaga', 'Ellen DeGeneres', 'Cristiano Ronaldo',\n",
    "'Justin Timberlake', 'Ariana Grande'],\n",
    "'number_of_tweets': mention_counts}\n",
    "# Convert to data frame\n",
    "df = pd.DataFrame(celeb_counts_df, columns = ['celebrity', 'number_of_tweets'])\n",
    "# Take a look at the data\n",
    "df.head()"
   ]
  },
  {
   "cell_type": "markdown",
   "metadata": {},
   "source": [
    "Who is being tweeted the most about?"
   ]
  },
  {
   "cell_type": "code",
   "execution_count": 17,
   "metadata": {},
   "outputs": [
    {
     "name": "stdout",
     "output_type": "stream",
     "text": [
      "Justin Bieber has been tweeted the most.\n"
     ]
    }
   ],
   "source": [
    "most_tweeted_celeb = df.loc[df['number_of_tweets'] == df['number_of_tweets'].max(), 'celebrity'].iloc[0]\n",
    "print(most_tweeted_celeb, \"has been tweeted the most.\")"
   ]
  },
  {
   "cell_type": "markdown",
   "metadata": {},
   "source": [
    "Who has tweeted the most about this celebrity?"
   ]
  },
  {
   "cell_type": "code",
   "execution_count": 18,
   "metadata": {},
   "outputs": [
    {
     "name": "stdout",
     "output_type": "stream",
     "text": [
      "@ PawelPolandSwag has tweeted Justin Bieber the most.\n"
     ]
    }
   ],
   "source": [
    "# Get tweets for the celebrity\n",
    "public_tweets = [status for status in tweepy.Cursor(api.search, q = most_tweeted_celeb, since = start_date, until = today, lang = 'en').items(max_tweets)]\n",
    "# Keep the user\n",
    "user_list = [['From :', tweet.user.screen_name] for tweet in public_tweets]\n",
    "# Convert to data frame\n",
    "tweets = pd.DataFrame(data = user_list, columns = ['user', 'name'])\n",
    "# Identify the most frequent user\n",
    "most_frequent_tweeter = tweets['name'].value_counts().idxmax()\n",
    "print (\"@\", most_frequent_tweeter, \"has tweeted\", most_tweeted_celeb, \"the most.\")"
   ]
  },
  {
   "cell_type": "markdown",
   "metadata": {},
   "source": [
    "Return summary"
   ]
  },
  {
   "cell_type": "code",
   "execution_count": 19,
   "metadata": {},
   "outputs": [
    {
     "name": "stdout",
     "output_type": "stream",
     "text": [
      "The most tweeted celebrity in the past day is Justin Bieber and @ PawelPolandSwag has tweeted Justin Bieber the most. Below is a table with the number of tweets for our celebrities of interest.\n",
      "           celebrity  number_of_tweets\n",
      "0         Katy Perry                 1\n",
      "1      Justin Bieber               375\n",
      "2       Barack Obama               252\n",
      "3            Rihanna                23\n",
      "4       Taylor Swift                76\n",
      "5          Lady Gaga                45\n",
      "6    Ellen DeGeneres                30\n",
      "7  Cristiano Ronaldo                 3\n",
      "8  Justin Timberlake                 0\n",
      "9      Ariana Grande                66\n"
     ]
    }
   ],
   "source": [
    "print (\"The most tweeted celebrity in the past day is\", most_tweeted_celeb, \"and @\", most_frequent_tweeter, \"has tweeted\", most_tweeted_celeb, \"the most. Below is a table with the number of tweets for our celebrities of interest.\")\n",
    "print(df)"
   ]
  }
 ],
 "metadata": {
  "kernelspec": {
   "display_name": "Python 3",
   "language": "python",
   "name": "python3"
  },
  "language_info": {
   "codemirror_mode": {
    "name": "ipython",
    "version": 3
   },
   "file_extension": ".py",
   "mimetype": "text/x-python",
   "name": "python",
   "nbconvert_exporter": "python",
   "pygments_lexer": "ipython3",
   "version": "3.7.3"
  }
 },
 "nbformat": 4,
 "nbformat_minor": 2
}

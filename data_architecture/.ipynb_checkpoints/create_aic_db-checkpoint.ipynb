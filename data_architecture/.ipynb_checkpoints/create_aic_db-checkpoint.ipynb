{
 "cells": [
  {
   "cell_type": "markdown",
   "metadata": {},
   "source": [
    "## Create aic database"
   ]
  },
  {
   "cell_type": "markdown",
   "metadata": {},
   "source": [
    "**Import libraries**"
   ]
  },
  {
   "cell_type": "code",
   "execution_count": 49,
   "metadata": {},
   "outputs": [],
   "source": [
    "import mysql.connector as msql\n",
    "import json\n",
    "from mysql.connector import Error"
   ]
  },
  {
   "cell_type": "markdown",
   "metadata": {},
   "source": [
    "**Get credentials**"
   ]
  },
  {
   "cell_type": "code",
   "execution_count": 62,
   "metadata": {},
   "outputs": [],
   "source": [
    "with open(\"..\\\\..\\\\credentials\\\\sql_credentials.json\") as f:\n",
    "    data = json.loads(f.read())\n",
    "    creds = data[0]"
   ]
  },
  {
   "cell_type": "markdown",
   "metadata": {},
   "source": [
    "**Create database**"
   ]
  },
  {
   "cell_type": "code",
   "execution_count": 60,
   "metadata": {},
   "outputs": [
    {
     "name": "stdout",
     "output_type": "stream",
     "text": [
      "A database called aic already exists. Skipping database creation...\n"
     ]
    }
   ],
   "source": [
    "try:\n",
    "    # Establish connection\n",
    "    conn = msql.connect(host=creds[\"HOST\"], user=creds[\"USER\"], password=creds[\"PW\"])\n",
    "    if conn.is_connected():\n",
    "        cursor = conn.cursor()\n",
    "        # Make sure database doesn't exist before attempting to create it\n",
    "        databases = (\"SHOW DATABASES\")\n",
    "        cursor.execute(databases)\n",
    "        dbs = []\n",
    "        for (databases) in cursor:\n",
    "            dbs.append(databases[0])\n",
    "        if \"aic\" in dbs:\n",
    "            print(\"A database called aic already exists. Skipping database creation...\")\n",
    "        else:\n",
    "            cursor.execute(\"CREATE DATABASE aic\")\n",
    "            print(\"aic database has been created!\")\n",
    "except Error as e:\n",
    "    print(\"Error while connecting to MySQL\", e)"
   ]
  },
  {
   "cell_type": "markdown",
   "metadata": {},
   "source": [
    "**Create artworks table**"
   ]
  },
  {
   "cell_type": "code",
   "execution_count": null,
   "metadata": {},
   "outputs": [],
   "source": [
    "try:\n",
    "    # Establish connection\n",
    "    conn = msql.connect(host=creds[\"HOST\"], user=creds[\"USER\"], password=creds[\"PW\"])\n",
    "    if conn.is_connected():\n",
    "        cursor = conn.cursor()\n",
    "        cursor.execute(\"USE aic;\")\n",
    "        cursor.execute(\"DROP TABLE IF EXISTS artworks;\")\n",
    "        print('Creating artworks table...')\n",
    "        cursor.execute(\"\"\"\n",
    "                        CREATE TABLE artworks (\n",
    "                                                sepal_length FLOAT(2,1) ,\n",
    "                                                sepal_width FLOAT(2,1),\n",
    "                                                petal_length FLOAT(2,1), \n",
    "                                                petal_width FLOAT(2,1),\n",
    "                                                species CHAR(11)\n",
    "                                                )\n",
    "                        \"\"\") #TODO: replace with actual column names\n",
    "        print(\"aic table has been created!\")\n",
    "except Error as e:\n",
    "    print(\"Error while connecting to MySQL\", e)"
   ]
  }
 ],
 "metadata": {
  "kernelspec": {
   "display_name": "Python 3",
   "language": "python",
   "name": "python3"
  },
  "language_info": {
   "codemirror_mode": {
    "name": "ipython",
    "version": 3
   },
   "file_extension": ".py",
   "mimetype": "text/x-python",
   "name": "python",
   "nbconvert_exporter": "python",
   "pygments_lexer": "ipython3",
   "version": "3.7.3"
  }
 },
 "nbformat": 4,
 "nbformat_minor": 2
}
